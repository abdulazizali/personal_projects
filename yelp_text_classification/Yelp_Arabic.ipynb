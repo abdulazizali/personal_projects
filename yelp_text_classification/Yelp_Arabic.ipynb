{
 "cells": [
  {
   "cell_type": "markdown",
   "metadata": {},
   "source": [
    "<div style=\"direction:rtl; text-align:center; font-size:16px; line-height:1.6; font-weight: bold;\">\n",
    "<h1>معالجة وتصنيف النصوص</h1>\n",
    "</div>\n",
    "<br/>"
   ]
  },
  {
   "cell_type": "markdown",
   "metadata": {},
   "source": [
    "<p style=\"direction:rtl; text-align:right; font-size:16px; line-height:1.6 ;color:red\">\n",
    "ملاحظة: تستطيع الاستفادة بشكل أكبر من هذا المشروع بالضغط على <a href=\"http://colab.research.google.com/github/abdulazizali/personal_projects/blob/master/yelp_text_classification/Yelp_Arabic.ipynb\">هذا الرابط</a> وستحصل على نسخة منه يمكنك تعديلها بواسطة Google colaboratory وستكون نسختك الخاصة محفوظة بحسابك في قوقل درايف. \n",
    "</p>\n"
   ]
  },
  {
   "cell_type": "markdown",
   "metadata": {},
   "source": [
    "<p style=\"direction:rtl; text-align:right; font-size:16px; line-height:1.6\">\n",
    "\n",
    "<b> مقدمة: </b>\n",
    "<br/>\n",
    "يعد تحليل وتصنيف النصوص Text Classification أحد أهم تطبيقات تعلم الآلة  وأكثرها تعقيداً، ولها تطبيقات عدة في المجال الأكاديمي وقطاع الأعمال، مثل تصنيف الرسائل إلى رسائل سبام ورسائل سليمة، وتحليل المشاعر في النصوص Sentiment Analysis،  وتصنيف الأخبار حسب المحتوى (أخبار رياضية – سياسية – اقتصادية ..إلخ). وغيرها الكثير.\n",
    "<br/>\n",
    "كما يعتبر تصنيف النصوص أحد أشكال الـ Supervised Learning، ونستطيع تقسيمه من حيث \"التصنيف\" إلى ثلاثة أنواع: ثنائي التصنيف Binary Classification  : مثل تصنيف رسائل السبام (سبام – غير سبام)، أو تحليل المشاعر في النصوص (إيجابية – سلبية). ومتعدد الأصناف Multiclass Classification: مثل النوع السابق ولكن بثلاثة تصنيفات أوأكثر. وأخيراً متعدد التسميات Multi-Label Classification: ومثاله تصنيف الأخبار حسب المحتوى، والاختلاف هنا عن النوعين السابقين هو أن الخبر الواحد قد يأخذ تصنيفاً واحدًا، أو أكثر من تصنيف (خبر رياضي – سياسي).\n",
    "<br/>\n",
    "هدف هذا المشروع هو استخدام بيانات منصة Yelp المعروفة لتقييم المتاجر والمطاعم وغيرها، لبناء نموذج يقوم بتصنيف نصوص التعليقات بناء على التقييمات الخاصة بها، ليكون النوذج قادراً بعد تدريبه على التنبؤ بتقييم أي نص جديد يزود به. ومن هنا نلحظ أن مشكلتنا تنتمي للنوع الثاني Multiclass Classification بسبب أن تصنيفات التعليقات تنقسم إلى خمسة تصنيفات (1-5).\n",
    "كما سنتطرق سوياً إلى أهم المفاهيم والتقنيات والخوارزميات (البسيطة) المستخدمة في تصنيف النصوص، مثل طرق معالجة النصوص وتحويلها لقيم رقمية باستخدام Word2Vec و TF-IDF، واستخراج الخصائص الهامة في كل تصنيف، وتدريب النماذج المختلفة، ليكون هذا المشروع مدخلاً مناسباً للمبتدئين.\n",
    "</p>\n"
   ]
  },
  {
   "cell_type": "markdown",
   "metadata": {},
   "source": [
    "<p style=\"direction:rtl; text-align:right; font-size:16px; line-height:1.6\">\n",
    "\n",
    "<b> مجموعة البيانات: </b>\n",
    "<br/>\n",
    "البيانات المستخدمة في هذا المشروع هي مجموعة بيانات منصة Yelp، وهي منصة شهيرة تنتشر بأمريكا وأوربا، وهي منافسة لمنصة Foursquare المعروفة في منطقتنا. تتيح المنصة للمستخدمين استعراض المتاجر والمطاعم وغيرها وإضافة التعليقات التقييمات والصور وتسجيل الحضور Check-ins لهذه الأماكن. وقد قامت المنصة بطرح مجموعة كبيرة من بياناتها كمنافسة  لمعالجة الصور وتحليل النصوص وغيرها. ويمكن الاطلاع على التفاصيل من خلال  <a href=\"https://www.yelp.com/dataset/challenge\">موقعهم</a> أو عن طريق <a href=\"https://www.kaggle.com/yelp-dataset/yelp-dataset\">كاقل</a>\n",
    "<br/>\n",
    "مجموعة البيانات هذه تحتوي على عدة مجموعات فرعية، مثل بيانات المتاجر والأعمال، وأوقات العمل، وبيانات التعليقات والتقييمات، وبيانات المستخدمين ونشاطهم. مايهمنا هنا هي بيانات التعليقات (النصوص) والتقييمات (1-5). وسنستخدم النصوص كـ Training features والتقييمات كـ Targets.\n",
    "\n",
    "</p>\n"
   ]
  },
  {
   "cell_type": "markdown",
   "metadata": {},
   "source": [
    "<p style=\"direction:rtl; text-align:right; font-size:16px; line-height:1.6\">\n",
    "\n",
    "<b>تحديات في المشروع: </b>\n",
    "<br/>\n",
    "بشكل عام، تعتبر تطبيقات تحليل ومعالجة النصوص أحد أصعب تطبيقات تعلم الآلة، فاللغات الطبيعة بالغة التعقيد والتركيب بحيث يصعب تمثيلها رياضياً لتتعامل معها خوارزميات تعلم الآلة البسيطة. ولذلك، عند الرغبة بالحصول على نتائج عالية ودقيقة، فإنه يلزمنا استخدام خوارزميات أكثر تعقيداً مثل Recurrent Neural Networks وغيرها من خوارزميات التعلم العميق، ولكننا لن نتطرق لها في هذا المشروع.\n",
    "<br/>\n",
    "فيما يلي أبرز الصعوبات والتحديات التي ستواجهنا في هذا المشروع:\n",
    "<br/>\n",
    "<ul style=\"direction:rtl; text-align:right; font-size:16px; line-height:1.6\">\n",
    "<li> طبيعة تعقيد وتركيب اللغات الطبيعية، وضروة فهم السياق كاملاً لا الاقتصار على الكلمات ومعانيها. </li>\n",
    "<li> طبيعة نصوص التعليقات القصيرة، على عكس نصوص المقالات أو الكتب مثلاً، ولهذا سيكون من الصعب تصنيف نص في ظل المعلومات القليلة عنه. </li>\n",
    "<li> تأثير الجانب النفسي على التقييم والذي لا ينعكس بالضرورة على نص التعليق. </li>\n",
    "<li> كلما كثرت التصنيفات زاد تعقيد المشكلة، فدقة التنبؤ العشوائي لنص له احتماليين (0-1) ستكون 50%، أما دقة التنبؤ العشوائي لنص له خمسة احتمالات (1-5) ستكون 20% </li>\n",
    "<li>\tيزيد من صعوبة التصنيف كذلك وجود علاقة بين التصنيفات، فالتصنيفات (4 و 5) أو (1 و 2) متقاربة في النصوص ويصعب التفريق بينها، بينما التصنيف 3 قد لا يحمل عبارات واضحة تساعد في تصنيفه. </li>\n",
    "<li>\tكذلك صعوبة قياس أداء النموذج، فالنموذج الذي نزوده بنص تقييمه في الأصل 5، ولكن يتنبأ بـ 4، أفضل من النموذج الذي يتنبأ لنفس النص بـ 3. ولهذا نحتاج لاستعمال أكثر من مقياس أداء. </li>\n",
    "<li>\tتمثيل النصوص رقمياً Vectorizing يستهلك كثيراً من الذاكرة، ولذلك قد نضطر للتضحية بكثير من البيانات التي قد تكون هامة في سبيل  القدرة على معالجة البيانات. </li>\n",
    "</ul>\n",
    "\n",
    "</p>\n"
   ]
  },
  {
   "cell_type": "markdown",
   "metadata": {},
   "source": [
    "<p style=\"direction:rtl; text-align:right; font-size:16px; line-height:1.6\">\n",
    "\n",
    "<b>مسار المشروع:</b>\n",
    "<br/>\n",
    "سنسير في هذا المشروع على كامل الخطوات الرئيسية لغالب مشاريع تعلم الآلة، وهي:\n",
    "<br/>\n",
    "\n",
    "<ul style=\"direction:rtl; text-align:right; font-size:16px; line-height:1.6\">\n",
    "<li> استعراض واستكشاف البيانات\n",
    "<ul>\n",
    "<li> تحميل البيانات</li>\n",
    "<li> استعراض البيانات</li>\n",
    "</ul>\n",
    "</li>\n",
    "<li> معالجة البيانات\n",
    "<ul>\n",
    "<li> معالجة وتنظيف البيانات</li>\n",
    "<li> تقسيم البيانات إلى بيانات تدريب واختبار</li>\n",
    "<li> تحويل النصوص إلى قيم رقمية باستخدام Word2Vec و TF-IDF</li>\n",
    "<li> استخراج الخصائص الهامة في كل تصنيف</li>\n",
    "</ul>\n",
    "</li>\n",
    "<li>فحص النماذج\n",
    "<ul>\n",
    "<li> تحديد النماذج</li>\n",
    "<li> تحديد مقاييس الأداء</li>\n",
    "<li> تدريب واختبار أداء النماذج باستخدام بيانات التحقق Validation set </li>\n",
    "</ul>\n",
    "</li>\n",
    "<li> اختيار واختبار النموذج المناسب ببيانات الاختبار</li>\n",
    "<li> تقييم النموذج </li>\n",
    "<li>تحويل المهمة إلى تصنيف ثنائي </li>\n",
    "</ul>\n",
    "\n",
    "</p>\n"
   ]
  },
  {
   "cell_type": "markdown",
   "metadata": {},
   "source": [
    "<div style=\"direction:rtl; text-align:right; line-height:1.6; font-weight: bold;\">\n",
    "<h1>\n",
    "استعراض واستكشاف البيانات\n",
    "</h1>\n",
    "</div>"
   ]
  },
  {
   "cell_type": "markdown",
   "metadata": {},
   "source": [
    "<div style=\"direction:rtl; text-align:right; line-height:1.6; font-weight: bold;\">\n",
    "<h2>\n",
    "تحميل البيانات\n",
    "</h2>\n",
    "</div>"
   ]
  },
  {
   "cell_type": "code",
   "execution_count": 86,
   "metadata": {
    "collapsed": true
   },
   "outputs": [],
   "source": [
    "import numpy as np\n",
    "import pandas as pd\n",
    "\n",
    "import matplotlib.pyplot as plt\n",
    "import seaborn as sns\n",
    "\n",
    "from sklearn.feature_extraction.text import CountVectorizer, TfidfVectorizer\n",
    "from sklearn.cross_validation import train_test_split\n",
    "from langdetect import detect\n",
    "from textblob import TextBlob\n",
    "from sklearn.feature_selection import chi2\n",
    "\n",
    "from sklearn.linear_model import LogisticRegression\n",
    "from sklearn.naive_bayes import MultinomialNB\n",
    "from sklearn.ensemble import RandomForestClassifier\n",
    "\n",
    "from sklearn.metrics import f1_score, accuracy_score, make_scorer\n",
    "from sklearn import metrics\n",
    "from sklearn.metrics import confusion_matrix\n",
    "from sklearn.model_selection import cross_val_score, GridSearchCV\n",
    "\n",
    "import time\n",
    "import random\n",
    "import warnings\n",
    "\n",
    "warnings.filterwarnings('ignore')\n",
    "%matplotlib inline"
   ]
  },
  {
   "cell_type": "markdown",
   "metadata": {},
   "source": [
    "<p style=\"direction:rtl; text-align:right; font-size:16px; line-height:1.6\">\n",
    "سنقوم الآن بقراءة البيانات من الملف المتاجر وعرض أول 5 أسطر منها.\n",
    "<br/>\n",
    "هذا الجدول يحتوي على البيانات الرئيسية للأعمال والمتاجر، والهدف من استخدامها هنا هو أننا نريد تحديد المطاعم فقط، من أجل تحديد التعليقات الخاصة بالمطاعم من جدول التقييمات. بالطبع نستطيع التعامل مع كامل التعليقات بدون استثناء، لكن تحديد مجال محدد مثل المطاعم أو غيرها يعطي بيانات متسقة أكثر من لو أننا أدخلنا تعليقات من عدة مجالات: مطاعم، محلات أثاث، نوادي ..إلخ\n",
    "</p>"
   ]
  },
  {
   "cell_type": "code",
   "execution_count": 87,
   "metadata": {
    "scrolled": false
   },
   "outputs": [
    {
     "data": {
      "text/html": [
       "<div>\n",
       "<style>\n",
       "    .dataframe thead tr:only-child th {\n",
       "        text-align: right;\n",
       "    }\n",
       "\n",
       "    .dataframe thead th {\n",
       "        text-align: left;\n",
       "    }\n",
       "\n",
       "    .dataframe tbody tr th {\n",
       "        vertical-align: top;\n",
       "    }\n",
       "</style>\n",
       "<table border=\"1\" class=\"dataframe\">\n",
       "  <thead>\n",
       "    <tr style=\"text-align: right;\">\n",
       "      <th></th>\n",
       "      <th>business_id</th>\n",
       "      <th>name</th>\n",
       "      <th>neighborhood</th>\n",
       "      <th>address</th>\n",
       "      <th>city</th>\n",
       "      <th>state</th>\n",
       "      <th>postal_code</th>\n",
       "      <th>latitude</th>\n",
       "      <th>longitude</th>\n",
       "      <th>stars</th>\n",
       "      <th>review_count</th>\n",
       "      <th>is_open</th>\n",
       "      <th>categories</th>\n",
       "    </tr>\n",
       "  </thead>\n",
       "  <tbody>\n",
       "    <tr>\n",
       "      <th>0</th>\n",
       "      <td>FYWN1wneV18bWNgQjJ2GNg</td>\n",
       "      <td>\"Dental by Design\"</td>\n",
       "      <td>NaN</td>\n",
       "      <td>\"4855 E Warner Rd, Ste B9\"</td>\n",
       "      <td>Ahwatukee</td>\n",
       "      <td>AZ</td>\n",
       "      <td>85044</td>\n",
       "      <td>33.330690</td>\n",
       "      <td>-111.978599</td>\n",
       "      <td>4.0</td>\n",
       "      <td>22</td>\n",
       "      <td>1</td>\n",
       "      <td>Dentists;General Dentistry;Health &amp; Medical;Oral Surgeons;Cosmetic Dentists;Orthodontists</td>\n",
       "    </tr>\n",
       "    <tr>\n",
       "      <th>1</th>\n",
       "      <td>He-G7vWjzVUysIKrfNbPUQ</td>\n",
       "      <td>\"Stephen Szabo Salon\"</td>\n",
       "      <td>NaN</td>\n",
       "      <td>\"3101 Washington Rd\"</td>\n",
       "      <td>McMurray</td>\n",
       "      <td>PA</td>\n",
       "      <td>15317</td>\n",
       "      <td>40.291685</td>\n",
       "      <td>-80.104900</td>\n",
       "      <td>3.0</td>\n",
       "      <td>11</td>\n",
       "      <td>1</td>\n",
       "      <td>Hair Stylists;Hair Salons;Men's Hair Salons;Blow Dry/Out Services;Hair Extensions;Beauty &amp; Spas</td>\n",
       "    </tr>\n",
       "    <tr>\n",
       "      <th>2</th>\n",
       "      <td>KQPW8lFf1y5BT2MxiSZ3QA</td>\n",
       "      <td>\"Western Motor Vehicle\"</td>\n",
       "      <td>NaN</td>\n",
       "      <td>\"6025 N 27th Ave, Ste 1\"</td>\n",
       "      <td>Phoenix</td>\n",
       "      <td>AZ</td>\n",
       "      <td>85017</td>\n",
       "      <td>33.524903</td>\n",
       "      <td>-112.115310</td>\n",
       "      <td>1.5</td>\n",
       "      <td>18</td>\n",
       "      <td>1</td>\n",
       "      <td>Departments of Motor Vehicles;Public Services &amp; Government</td>\n",
       "    </tr>\n",
       "    <tr>\n",
       "      <th>3</th>\n",
       "      <td>8DShNS-LuFqpEWIp0HxijA</td>\n",
       "      <td>\"Sports Authority\"</td>\n",
       "      <td>NaN</td>\n",
       "      <td>\"5000 Arizona Mills Cr, Ste 435\"</td>\n",
       "      <td>Tempe</td>\n",
       "      <td>AZ</td>\n",
       "      <td>85282</td>\n",
       "      <td>33.383147</td>\n",
       "      <td>-111.964725</td>\n",
       "      <td>3.0</td>\n",
       "      <td>9</td>\n",
       "      <td>0</td>\n",
       "      <td>Sporting Goods;Shopping</td>\n",
       "    </tr>\n",
       "    <tr>\n",
       "      <th>4</th>\n",
       "      <td>PfOCPjBrlQAnz__NXj9h_w</td>\n",
       "      <td>\"Brick House Tavern + Tap\"</td>\n",
       "      <td>NaN</td>\n",
       "      <td>\"581 Howe Ave\"</td>\n",
       "      <td>Cuyahoga Falls</td>\n",
       "      <td>OH</td>\n",
       "      <td>44221</td>\n",
       "      <td>41.119535</td>\n",
       "      <td>-81.475690</td>\n",
       "      <td>3.5</td>\n",
       "      <td>116</td>\n",
       "      <td>1</td>\n",
       "      <td>American (New);Nightlife;Bars;Sandwiches;American (Traditional);Burgers;Restaurants</td>\n",
       "    </tr>\n",
       "  </tbody>\n",
       "</table>\n",
       "</div>"
      ],
      "text/plain": [
       "              business_id                        name neighborhood  \\\n",
       "0  FYWN1wneV18bWNgQjJ2GNg  \"Dental by Design\"          NaN           \n",
       "1  He-G7vWjzVUysIKrfNbPUQ  \"Stephen Szabo Salon\"       NaN           \n",
       "2  KQPW8lFf1y5BT2MxiSZ3QA  \"Western Motor Vehicle\"     NaN           \n",
       "3  8DShNS-LuFqpEWIp0HxijA  \"Sports Authority\"          NaN           \n",
       "4  PfOCPjBrlQAnz__NXj9h_w  \"Brick House Tavern + Tap\"  NaN           \n",
       "\n",
       "                            address            city state postal_code  \\\n",
       "0  \"4855 E Warner Rd, Ste B9\"        Ahwatukee       AZ    85044        \n",
       "1  \"3101 Washington Rd\"              McMurray        PA    15317        \n",
       "2  \"6025 N 27th Ave, Ste 1\"          Phoenix         AZ    85017        \n",
       "3  \"5000 Arizona Mills Cr, Ste 435\"  Tempe           AZ    85282        \n",
       "4  \"581 Howe Ave\"                    Cuyahoga Falls  OH    44221        \n",
       "\n",
       "    latitude   longitude  stars  review_count  is_open  \\\n",
       "0  33.330690 -111.978599  4.0    22            1         \n",
       "1  40.291685 -80.104900   3.0    11            1         \n",
       "2  33.524903 -112.115310  1.5    18            1         \n",
       "3  33.383147 -111.964725  3.0    9             0         \n",
       "4  41.119535 -81.475690   3.5    116           1         \n",
       "\n",
       "                                                                                        categories  \n",
       "0  Dentists;General Dentistry;Health & Medical;Oral Surgeons;Cosmetic Dentists;Orthodontists        \n",
       "1  Hair Stylists;Hair Salons;Men's Hair Salons;Blow Dry/Out Services;Hair Extensions;Beauty & Spas  \n",
       "2  Departments of Motor Vehicles;Public Services & Government                                       \n",
       "3  Sporting Goods;Shopping                                                                          \n",
       "4  American (New);Nightlife;Bars;Sandwiches;American (Traditional);Burgers;Restaurants              "
      ]
     },
     "execution_count": 87,
     "metadata": {},
     "output_type": "execute_result"
    }
   ],
   "source": [
    "business = pd.read_csv(\"https://s3-us-west-2.amazonaws.com/aws-logs-732029909149-us-west-2/yelp_business.csv\")\n",
    "business.head()"
   ]
  },
  {
   "cell_type": "markdown",
   "metadata": {},
   "source": [
    "<p style=\"direction:rtl; text-align:right; font-size:16px; line-height:1.6\">\n",
    "الجدول أعلاه يحتوي على بيانات المتاجر، مايهمنا هنا هو آخر عامود categories .لأننا سنقوم لاحقاً باستخدامه لتحديد المطاعم فقط\n",
    "<br/>\n",
    "الآن سنقوم بقراءة بيانات التعليقات والتقييمات، وبسبب أن حجم الملف كبير ويحتوي على أكثر من 5 ملايين تعليق وحجمه على الهاردسك أكثر من 3 قيقا، ولو قرأناه كاملاً سيأخذ أكثر من 5 قيقا من الرام، فسنقوم بقراءة 1000,000 تقييم فقط بالطريقة التالية:\n",
    "</p>"
   ]
  },
  {
   "cell_type": "code",
   "execution_count": 88,
   "metadata": {},
   "outputs": [
    {
     "data": {
      "text/html": [
       "<div>\n",
       "<style>\n",
       "    .dataframe thead tr:only-child th {\n",
       "        text-align: right;\n",
       "    }\n",
       "\n",
       "    .dataframe thead th {\n",
       "        text-align: left;\n",
       "    }\n",
       "\n",
       "    .dataframe tbody tr th {\n",
       "        vertical-align: top;\n",
       "    }\n",
       "</style>\n",
       "<table border=\"1\" class=\"dataframe\">\n",
       "  <thead>\n",
       "    <tr style=\"text-align: right;\">\n",
       "      <th></th>\n",
       "      <th>review_id</th>\n",
       "      <th>user_id</th>\n",
       "      <th>business_id</th>\n",
       "      <th>stars</th>\n",
       "      <th>date</th>\n",
       "      <th>text</th>\n",
       "      <th>useful</th>\n",
       "      <th>funny</th>\n",
       "      <th>cool</th>\n",
       "    </tr>\n",
       "  </thead>\n",
       "  <tbody>\n",
       "    <tr>\n",
       "      <th>0</th>\n",
       "      <td>ymAUG8DZfQcFTBSOiaNN4w</td>\n",
       "      <td>u0LXt3Uea_GidxRW1xcsfg</td>\n",
       "      <td>9_CGhHMz8698M9-PkVf0CQ</td>\n",
       "      <td>4</td>\n",
       "      <td>2012-05-11</td>\n",
       "      <td>Who would have guess that you would be able to get fairly decent Vietnamese restaurant in East York? \\n\\nNot quite the same as Chinatown in terms of pricing (slightly higher) but definitely one of the better Vietnamese restaurants outside of the neighbourhood. When I don't have time to go to Chinatown, this is the next best thing as it is down the street from me.\\n\\nSo far the only items I have tried are the phos (beef, chicken &amp; vegetarian) - and they have not disappointed me! Especially the chicken pho.\\n\\nNext time I go back, I'm going to try the banh cuon (steamed rice noodle) and the vermicelli!</td>\n",
       "      <td>0</td>\n",
       "      <td>0</td>\n",
       "      <td>2</td>\n",
       "    </tr>\n",
       "    <tr>\n",
       "      <th>1</th>\n",
       "      <td>w41ZS9shepfO3uEyhXEWuQ</td>\n",
       "      <td>u0LXt3Uea_GidxRW1xcsfg</td>\n",
       "      <td>5r6-G9C4YLbC7Ziz57l3rQ</td>\n",
       "      <td>3</td>\n",
       "      <td>2013-02-09</td>\n",
       "      <td>Not bad!! Love that there is a gluten-free, vegan version of the cheese curds and gravy!!\\n\\nHaven't done the poutine taste test yet with smoke's but Im excited to see which is better. However poutini's might win as they are vegan and gluten-free</td>\n",
       "      <td>1</td>\n",
       "      <td>0</td>\n",
       "      <td>0</td>\n",
       "    </tr>\n",
       "    <tr>\n",
       "      <th>2</th>\n",
       "      <td>WF_QTN3p-thD74hqpp2j-Q</td>\n",
       "      <td>u0LXt3Uea_GidxRW1xcsfg</td>\n",
       "      <td>fDF_o2JPU8BR1Gya--jRIA</td>\n",
       "      <td>5</td>\n",
       "      <td>2016-04-06</td>\n",
       "      <td>Love this place!\\n\\nPeggy is great with dogs and does a great job! She is very patience with him and will make any adjustments you need before you leave the store. My little guy has no problems coming here.\\n\\nThey also have very good bully sticks (the non-smelly ones) that my little guy and his friends love!</td>\n",
       "      <td>3</td>\n",
       "      <td>0</td>\n",
       "      <td>0</td>\n",
       "    </tr>\n",
       "    <tr>\n",
       "      <th>3</th>\n",
       "      <td>x5oV6wm9_Pb1QQ6jkjDjwQ</td>\n",
       "      <td>u0LXt3Uea_GidxRW1xcsfg</td>\n",
       "      <td>13nKUHH-uEUXVZylgxchPA</td>\n",
       "      <td>1</td>\n",
       "      <td>2011-02-16</td>\n",
       "      <td>I thought Tidy's Flowers had a great reputation as a florist, but I guess I was wrong!\\n\\nFor Valentine's Day my boyfriend had ordered roses with Tidy's. However, the flowers that were delivered was not what he had ordered. He had placed in an order for long stem roses, mixed with orchids and was charged for that. What had showed up was a small vase with 4 short cut roses and some greens - table ornament, not really Valentine's Day flowers. \\n\\nIn speaking with another friend, something similar happened to her - her fiancee had ordered a dozen of roses for her for Valentine's Day while he was in Germany as a surprise and they never showed up. So when he called them to complaint, they actually then called up my friend to confirm whether or not she had received the flowers. Which she didn't, so they said they would resend - only to have them deliver it to the wrong place.\\n\\nUnderstanding that Valentine's Day is the most busiest day for florists and mistakes do happen, the way they had handled it was not what would have been expected from a florist of that nature.</td>\n",
       "      <td>9</td>\n",
       "      <td>0</td>\n",
       "      <td>1</td>\n",
       "    </tr>\n",
       "    <tr>\n",
       "      <th>4</th>\n",
       "      <td>Q-mhDIKa3wJuWEx9uuciIA</td>\n",
       "      <td>u0LXt3Uea_GidxRW1xcsfg</td>\n",
       "      <td>Xy74meQwdTnloAAyRC-4cg</td>\n",
       "      <td>3</td>\n",
       "      <td>2013-07-01</td>\n",
       "      <td>burgers are very big portions here.\\n\\ndefinitely order the onion ring tower to share...\\n\\nMilkshakes are tasty! My personal favourite - the vanilla one.</td>\n",
       "      <td>0</td>\n",
       "      <td>0</td>\n",
       "      <td>0</td>\n",
       "    </tr>\n",
       "  </tbody>\n",
       "</table>\n",
       "</div>"
      ],
      "text/plain": [
       "                review_id                 user_id             business_id  \\\n",
       "0  ymAUG8DZfQcFTBSOiaNN4w  u0LXt3Uea_GidxRW1xcsfg  9_CGhHMz8698M9-PkVf0CQ   \n",
       "1  w41ZS9shepfO3uEyhXEWuQ  u0LXt3Uea_GidxRW1xcsfg  5r6-G9C4YLbC7Ziz57l3rQ   \n",
       "2  WF_QTN3p-thD74hqpp2j-Q  u0LXt3Uea_GidxRW1xcsfg  fDF_o2JPU8BR1Gya--jRIA   \n",
       "3  x5oV6wm9_Pb1QQ6jkjDjwQ  u0LXt3Uea_GidxRW1xcsfg  13nKUHH-uEUXVZylgxchPA   \n",
       "4  Q-mhDIKa3wJuWEx9uuciIA  u0LXt3Uea_GidxRW1xcsfg  Xy74meQwdTnloAAyRC-4cg   \n",
       "\n",
       "   stars        date  \\\n",
       "0  4      2012-05-11   \n",
       "1  3      2013-02-09   \n",
       "2  5      2016-04-06   \n",
       "3  1      2011-02-16   \n",
       "4  3      2013-07-01   \n",
       "\n",
       "                                                                                                                                                                                                                                                                                                                                                                                                                                                                                                                                                                                                                                                                                                                                                                                                                                                                                                                                                                                                                                                                                                                     text  \\\n",
       "0  Who would have guess that you would be able to get fairly decent Vietnamese restaurant in East York? \\n\\nNot quite the same as Chinatown in terms of pricing (slightly higher) but definitely one of the better Vietnamese restaurants outside of the neighbourhood. When I don't have time to go to Chinatown, this is the next best thing as it is down the street from me.\\n\\nSo far the only items I have tried are the phos (beef, chicken & vegetarian) - and they have not disappointed me! Especially the chicken pho.\\n\\nNext time I go back, I'm going to try the banh cuon (steamed rice noodle) and the vermicelli!                                                                                                                                                                                                                                                                                                                                                                                                                                                                                          \n",
       "1  Not bad!! Love that there is a gluten-free, vegan version of the cheese curds and gravy!!\\n\\nHaven't done the poutine taste test yet with smoke's but Im excited to see which is better. However poutini's might win as they are vegan and gluten-free                                                                                                                                                                                                                                                                                                                                                                                                                                                                                                                                                                                                                                                                                                                                                                                                                                                                   \n",
       "2  Love this place!\\n\\nPeggy is great with dogs and does a great job! She is very patience with him and will make any adjustments you need before you leave the store. My little guy has no problems coming here.\\n\\nThey also have very good bully sticks (the non-smelly ones) that my little guy and his friends love!                                                                                                                                                                                                                                                                                                                                                                                                                                                                                                                                                                                                                                                                                                                                                                                                   \n",
       "3  I thought Tidy's Flowers had a great reputation as a florist, but I guess I was wrong!\\n\\nFor Valentine's Day my boyfriend had ordered roses with Tidy's. However, the flowers that were delivered was not what he had ordered. He had placed in an order for long stem roses, mixed with orchids and was charged for that. What had showed up was a small vase with 4 short cut roses and some greens - table ornament, not really Valentine's Day flowers. \\n\\nIn speaking with another friend, something similar happened to her - her fiancee had ordered a dozen of roses for her for Valentine's Day while he was in Germany as a surprise and they never showed up. So when he called them to complaint, they actually then called up my friend to confirm whether or not she had received the flowers. Which she didn't, so they said they would resend - only to have them deliver it to the wrong place.\\n\\nUnderstanding that Valentine's Day is the most busiest day for florists and mistakes do happen, the way they had handled it was not what would have been expected from a florist of that nature.   \n",
       "4  burgers are very big portions here.\\n\\ndefinitely order the onion ring tower to share...\\n\\nMilkshakes are tasty! My personal favourite - the vanilla one.                                                                                                                                                                                                                                                                                                                                                                                                                                                                                                                                                                                                                                                                                                                                                                                                                                                                                                                                                               \n",
       "\n",
       "   useful  funny  cool  \n",
       "0  0       0      2     \n",
       "1  1       0      0     \n",
       "2  3       0      0     \n",
       "3  9       0      1     \n",
       "4  0       0      0     "
      ]
     },
     "execution_count": 88,
     "metadata": {},
     "output_type": "execute_result"
    }
   ],
   "source": [
    "n = 5261668 - 1 #number of records in file (excludes header)\n",
    "s = 1000000\n",
    "skip = sorted(random.sample(range(1,n+1),n-s))\n",
    "reviews = pd.read_csv(\"https://s3-us-west-2.amazonaws.com/aws-logs-732029909149-us-west-2/yelp_review.csv\", skiprows=skip)\n",
    "\n",
    "reviews.head()"
   ]
  },
  {
   "cell_type": "markdown",
   "metadata": {},
   "source": [
    "<p style=\"direction:rtl; text-align:right; font-size:16px; line-height:1.6\">\n",
    "كما هو واضح في الجدول أنه يحتوي عدة معلومات لربط التعليق بالمستخدم والمتجر وغيرها، لكن مايهمنا هو حقل نص التعليق والتقييم فقط. قد يكون من المناسب دراسة الارتباط بين الحقول الأخرى وبين التقييم مثل (useful, funny, cool)، وقد يكون من المناسب إدخالها من ضمن البيانات، لكن نريد هنا التركيز فقط على النصوص وحدها."
   ]
  },
  {
   "cell_type": "markdown",
   "metadata": {},
   "source": [
    "<p style=\"direction:rtl; text-align:right; font-size:16px; line-height:1.6\">\n",
    "\n",
    "قبل تحديد بيانات المطاعم، من الجيد توضيح أن هناك تصنيفات أخرى تدل على المطعم مثل Food, Sandwiches, Bakeries, Pizza, .. etc. ومن المناسب تضمينها في البيانات، ولكن سنقوم بتجاهلها لوفرة البيانات. ولمعرفة أكثر 15 تصنيف في الجدول سنقوم بالتالي:\n",
    "</p>"
   ]
  },
  {
   "cell_type": "code",
   "execution_count": 89,
   "metadata": {},
   "outputs": [
    {
     "data": {
      "text/plain": [
       "Restaurants                  54618\n",
       "Shopping                     27971\n",
       "Food                         24777\n",
       "Beauty & Spas                17014\n",
       "Home Services                16205\n",
       "Health & Medical             14230\n",
       "Nightlife                    12154\n",
       "Local Services               11232\n",
       "Automotive                   11052\n",
       "Bars                         10563\n",
       "Event Planning & Services    9078 \n",
       "Active Life                  8257 \n",
       "Fashion                      7019 \n",
       "Sandwiches                   6345 \n",
       "Fast Food                    6280 \n",
       "dtype: int64"
      ]
     },
     "execution_count": 89,
     "metadata": {},
     "output_type": "execute_result"
    }
   ],
   "source": [
    "business['categories'].str.split(';').apply(lambda x: pd.Series(x)).stack().value_counts()[:15]"
   ]
  },
  {
   "cell_type": "markdown",
   "metadata": {},
   "source": [
    "<p style=\"direction:rtl; text-align:right; font-size:16px; line-height:1.6\">\n",
    "\n",
    "الآن سنقوم بتحديد المطاعم فقط من جدول business بالطريقة التالية:\n",
    "\n",
    "</p>"
   ]
  },
  {
   "cell_type": "code",
   "execution_count": 90,
   "metadata": {},
   "outputs": [
    {
     "data": {
      "text/plain": [
       "54618"
      ]
     },
     "execution_count": 90,
     "metadata": {},
     "output_type": "execute_result"
    }
   ],
   "source": [
    "Restaurants = business[business['categories'].str.contains('Restaurants') == True]\n",
    "Restaurants.shape[0]"
   ]
  },
  {
   "cell_type": "markdown",
   "metadata": {},
   "source": [
    "<p style=\"direction:rtl; text-align:right; font-size:16px; line-height:1.6\">\n",
    "\n",
    "العدد السابق يوضح عدد المتاجر التي لها تصنيف \"مطعم\" في مجموعة البيانات. الآن نقوم بتحديد التعليقات التي تنتمي إلى هذه المطاعم فقط:\n",
    "\n",
    "</p>"
   ]
  },
  {
   "cell_type": "code",
   "execution_count": 91,
   "metadata": {},
   "outputs": [
    {
     "data": {
      "text/plain": [
       "612647"
      ]
     },
     "execution_count": 91,
     "metadata": {},
     "output_type": "execute_result"
    }
   ],
   "source": [
    "Restaurants_reviews = reviews[reviews.business_id.isin(Restaurants['business_id']) == True]\n",
    "Restaurants_reviews.shape[0]"
   ]
  },
  {
   "cell_type": "markdown",
   "metadata": {},
   "source": [
    "<p style=\"direction:rtl; text-align:right; font-size:16px; line-height:1.6\">\n",
    " يعتبر عدد جيد نوعاُ ما.\n",
    "<br/>\n",
    "الآن ننتقل لمرحلة استكشاف البيانات ...\n",
    "</p>"
   ]
  },
  {
   "cell_type": "markdown",
   "metadata": {},
   "source": [
    "<div style=\"direction:rtl; text-align:right; font-size:16px; line-height:1.6\">\n",
    "\n",
    "<h2>استكشاف البيانات</h2>\n",
    "\n",
    "</div>"
   ]
  },
  {
   "cell_type": "markdown",
   "metadata": {},
   "source": [
    "<p style=\"direction:rtl; text-align:right; font-size:16px; line-height:1.6\">\n",
    "الخطوة الأولى طبعاً هي معرفة عدد الحقول الفارغة والمتكررة:\n",
    "</p>"
   ]
  },
  {
   "cell_type": "code",
   "execution_count": 92,
   "metadata": {
    "scrolled": true
   },
   "outputs": [
    {
     "data": {
      "text/plain": [
       "text     0\n",
       "stars    0\n",
       "dtype: int64"
      ]
     },
     "execution_count": 92,
     "metadata": {},
     "output_type": "execute_result"
    }
   ],
   "source": [
    "Restaurants_reviews[['text', 'stars']].isnull().sum()"
   ]
  },
  {
   "cell_type": "code",
   "execution_count": 93,
   "metadata": {
    "scrolled": true
   },
   "outputs": [
    {
     "data": {
      "text/plain": [
       "0"
      ]
     },
     "execution_count": 93,
     "metadata": {},
     "output_type": "execute_result"
    }
   ],
   "source": [
    "Restaurants_reviews.duplicated().sum()"
   ]
  },
  {
   "cell_type": "markdown",
   "metadata": {},
   "source": [
    "<p style=\"direction:rtl; text-align:right; font-size:16px; line-height:1.6\">\n",
    "جيد، لا يوجد بيانات فارغة، ولا متكررة. الأن نتحقق من توزيع أطوال النصوص بالطريقة التالي: ننشئ عامود جديد يأخذ طول نص التعليق في كل صف، ومن ثم نستعرض أبرز الخصائص الإحصائية عنه\n",
    "</p>"
   ]
  },
  {
   "cell_type": "code",
   "execution_count": 94,
   "metadata": {},
   "outputs": [
    {
     "data": {
      "text/plain": [
       "count    612647.000000\n",
       "mean     597.064948   \n",
       "std      556.766480   \n",
       "min      2.000000     \n",
       "25%      233.000000   \n",
       "50%      421.000000   \n",
       "75%      766.000000   \n",
       "max      5022.000000  \n",
       "Name: text_len, dtype: float64"
      ]
     },
     "execution_count": 94,
     "metadata": {},
     "output_type": "execute_result"
    }
   ],
   "source": [
    "Restaurants_reviews['text_len'] = Restaurants_reviews['text'].str.len()\n",
    "Restaurants_reviews.text_len.describe()"
   ]
  },
  {
   "cell_type": "markdown",
   "metadata": {},
   "source": [
    "<p style=\"direction:rtl; text-align:right; font-size:16px; line-height:1.6\">\n",
    "الجدول السابق يعرض أبرز الخصائص الإحصائية لطول النص، وتفيدنا هذه المعلومات فيما لو أردنا تحديد عدد أقل لطول النص بحيث تكون جميع التعليقات أطول من هذا العدد.\n",
    "<br/>\n",
    "مثال: سنخسر 50% من التعليقات في حال حددنا التعليقات التي طول نصوصها أطول من 421. سنخسر بهذه الخطوة عدة تعليقات على مستوى مجموعة البيانات، لكننا سنربح بيانات أكثر على مستوى التعليق الواحد كونه يحتوي على كلمات أكثر. سنقوم بهذه الخطوة لاحقاً.\n",
    "<br/>\n",
    "الآن دعنا نرى توزيع أطوال النصوص بشكل رسومي ليعطي فهم أعمق\n",
    "</p>"
   ]
  },
  {
   "cell_type": "code",
   "execution_count": 95,
   "metadata": {},
   "outputs": [
    {
     "data": {
      "text/plain": [
       "Text(0.5,0,'text length')"
      ]
     },
     "execution_count": 95,
     "metadata": {},
     "output_type": "execute_result"
    },
    {
     "data": {
      "image/png": "[encoded data removed]",
      "text/plain": [
       "<Figure size 432x288 with 1 Axes>"
      ]
     },
     "metadata": {},
     "output_type": "display_data"
    }
   ],
   "source": [
    "sns.distplot(Restaurants_reviews.text_len)\n",
    "plt.title('Lenght Distribution\\n', fontsize=15)\n",
    "plt.xlabel('text length')"
   ]
  },
  {
   "cell_type": "markdown",
   "metadata": {},
   "source": [
    "<p style=\"direction:rtl; text-align:right; font-size:16px; line-height:1.6\">\n",
    "الآن من الجيد أن نعرض أطوال النصوص حسب التقييم، ولتسهيل عرض البيانات وجعلها أكثر وضوحاً سنجعل التقييمات 3 بدلا من 5، وستعرض توزيع أطوال النصوص لكل واحدة من هذه الثلاثة أصناف.\n",
    "<br/>\n",
    "مالفائدة من ذلك؟ الفائدة هي أننا لو وجدنا اخلاف واضح ومميز في توزيع أطوال النصوص، كأن تكون التقييمات الجيدة أطول بشكل ملحوظ عن التقييمات المنخفضة، فسيكون طول النص ميزة إضافية نضمنها للبيانات، لأن ذلك سيساعد النموذج في التصنيف بشكل أكثر دقة. لكن كما هو واضح أنه لا يوجد فرق بين أطوال النصوص، ولذلك فلا حاجة لإدراجه ضمن البيانات.\n",
    "</p>"
   ]
  },
  {
   "cell_type": "code",
   "execution_count": 96,
   "metadata": {
    "collapsed": true
   },
   "outputs": [],
   "source": [
    "def plot_text_len_per_class(data):\n",
    "    good = data[data['stars'] >=4].text_len\n",
    "    sns.distplot(good, label='good reviews')\n",
    "    med = data[data['stars'] ==3].text_len\n",
    "    sns.distplot(med, label='mediocre reviews')\n",
    "    bad = data[data['stars'] <=2].text_len\n",
    "    sns.distplot(bad, label='bad reviews')\n",
    "    plt.title('Lenght Distribution / Stars\\n', fontsize=15)\n",
    "    plt.xlabel('text length')\n",
    "    plt.legend()"
   ]
  },
  {
   "cell_type": "code",
   "execution_count": 97,
   "metadata": {
    "scrolled": false
   },
   "outputs": [
    {
     "data": {
      "image/png": "[encoded data removed]",
      "text/plain": [
       "<Figure size 432x288 with 1 Axes>"
      ]
     },
     "metadata": {},
     "output_type": "display_data"
    }
   ],
   "source": [
    "plot_text_len_per_class(Restaurants_reviews)"
   ]
  },
  {
   "cell_type": "markdown",
   "metadata": {},
   "source": [
    "<p style=\"direction:rtl; text-align:right; font-size:16px; line-height:1.6\">\n",
    "أحد أهم الأمور التي يجب أن تؤخذ في الحسبان هي توزيع التصنيفات داخل البيانات. فكثير من خوارزميات تعلم الآلة تعطي التصنيفات الأكثر أمثلة وزناُ أكبر بسبب أنه أكثر أمثلة فقط. وتسمى هذه المشكلة: البيانات غير المتوازنة Imbalanced Data. دعنا نشاهد توزير الأصناف في بياناتنا\n",
    "</p>"
   ]
  },
  {
   "cell_type": "code",
   "execution_count": 98,
   "metadata": {
    "collapsed": true
   },
   "outputs": [],
   "source": [
    "def plt_calss_dist(data):\n",
    "    stars_dist = data.stars.value_counts().sort_index()\n",
    "    stars_dist = stars_dist/stars_dist.sum()\n",
    "    stars_dist.plot.bar()\n",
    "    plt.title('Stars Distribution\\n', fontsize=15)\n",
    "    plt.xlabel('stars')"
   ]
  },
  {
   "cell_type": "code",
   "execution_count": 99,
   "metadata": {},
   "outputs": [
    {
     "data": {
      "image/png": "[encoded data removed]",
      "text/plain": [
       "<Figure size 432x288 with 1 Axes>"
      ]
     },
     "metadata": {},
     "output_type": "display_data"
    }
   ],
   "source": [
    "plt_calss_dist(Restaurants_reviews)"
   ]
  },
  {
   "cell_type": "markdown",
   "metadata": {},
   "source": [
    "<p style=\"direction:rtl; text-align:right; font-size:16px; line-height:1.6\">\n",
    "من الواضح أن البيانات غير متوازنة، ولحل هذه المشكلة لدينا عدة خيارات:\n",
    "<ul style=\"direction:rtl; text-align:right; font-size:16px; line-height:1.6\">\n",
    "<li>تقليل عدد الأصناف ذات العدد الكبير Undersampling: ويعني أننا نحذف من البيانات التي تنتمي للتصنيفات الكبيرة حتى نصل لعدد متساوي لكل التصنيفات. هذا الحل قد يكون مناسب إذا كان لديك عدد ضخم من البيانات ولن تتأثر بالحذف.</li>\n",
    "<li>زيادة عدد الأصناف ذات العدد القليل Oversampling: ويعني أننا نقوم بتكرار عينات عشوائية داخل كل تصنيف قليل حتى نصل لعدد متساو لكل التصنيفات. هذا الحل قد يكون مناسب إذا كان لديك عدد قليل من البيانات.</li>\n",
    "<li>استخدام خوارزميات لا تتأثر بمشكلة البيانات غير المتوازنة، أو بتحديد class_weight=balanced في الخوارزميات التي تدعم ذلك في مكتبة sklearn</li>\n",
    "</ul>\n",
    "<p style=\"direction:rtl; text-align:right; font-size:16px; line-height:1.6\">\n",
    "للمزيد يمكنك الاطلاع على: <a href=\"https://elitedatascience.com/imbalanced-classes\">elitedatascience</a> و <a href=\"https://www.analyticsvidhya.com/blog/2017/03/imbalanced-classification-problem/\">analyticsvidhya</a>\n",
    "<br/>\n",
    "ونحن سنختار الخيار الثالث عند بناء النموذج.\n",
    "</p>"
   ]
  },
  {
   "cell_type": "markdown",
   "metadata": {},
   "source": [
    "<div style=\"direction:rtl; text-align:right; line-height:1.6; font-weight: bold;\">\n",
    "\n",
    "<h1>معالجة البيانات</h1>\n",
    "\n",
    "</div>"
   ]
  },
  {
   "cell_type": "markdown",
   "metadata": {},
   "source": [
    "<div style=\"direction:rtl; text-align:right; line-height:1.6; font-weight: bold;\">\n",
    "\n",
    "<h2>معالجة وتنظيف البيانات</h2>\n",
    "\n",
    "</div>"
   ]
  },
  {
   "cell_type": "markdown",
   "metadata": {},
   "source": [
    "<p style=\"direction:rtl; text-align:right; font-size:16px; line-height:1.6\">\n",
    "\n",
    "كما أشرنا سابقاً، أننا سنقوم بتحديد التعليقات الطويلة نسبياً، وحذف التعليقات القصيرة، من أجل الحصول على بيانات أوفر على مستوى التعليق، والذي بدوره سيساعد على دقة التصنيف.\n",
    "في الأكواد التالية سنقوم بتحديد النصوص التي أطوالها تقع ضمن النصف الأكبر في توزيع الأطول كما شاهدنا سابقاً\n",
    "</p>"
   ]
  },
  {
   "cell_type": "code",
   "execution_count": 100,
   "metadata": {},
   "outputs": [
    {
     "name": "stdout",
     "output_type": "stream",
     "text": [
      "we loose about 0.4992646662760121 from the data\n"
     ]
    }
   ],
   "source": [
    "perc_50 = Restaurants_reviews.text_len.describe()[5]\n",
    "old_len = Restaurants_reviews.shape[0]\n",
    "long_reviews = Restaurants_reviews[Restaurants_reviews.text_len > perc_50]\n",
    "print('we loose about %s from the data'%(long_reviews.shape[0]/old_len))"
   ]
  },
  {
   "cell_type": "markdown",
   "metadata": {},
   "source": [
    "<p style=\"direction:rtl; text-align:right; font-size:16px; line-height:1.6\">\n",
    "سنقوم باستعراض بعض المعلومات الإحصائية من جديد بعد حذف نصف التعليقات. وكما هو واضح لا يوجد تغييرات كبيرة في توزيع أطوال، مع تحسن بسيط في توزيع التصنيفات\n",
    "</p>"
   ]
  },
  {
   "cell_type": "code",
   "execution_count": 101,
   "metadata": {},
   "outputs": [
    {
     "data": {
      "image/png": "[encoded data removed]",
      "text/plain": [
       "<Figure size 432x288 with 1 Axes>"
      ]
     },
     "metadata": {},
     "output_type": "display_data"
    }
   ],
   "source": [
    "plot_text_len_per_class(long_reviews)"
   ]
  },
  {
   "cell_type": "code",
   "execution_count": 102,
   "metadata": {
    "scrolled": true
   },
   "outputs": [
    {
     "data": {
      "image/png": "[encoded data removed]",
      "text/plain": [
       "<Figure size 432x288 with 1 Axes>"
      ]
     },
     "metadata": {},
     "output_type": "display_data"
    }
   ],
   "source": [
    "plt_calss_dist(long_reviews)"
   ]
  },
  {
   "cell_type": "markdown",
   "metadata": {},
   "source": [
    "<p style=\"direction:rtl; text-align:right; font-size:16px; line-height:1.6\">\n",
    "الآن سنستعرض تعليق واحد عشوائي من كل تقييم بهدف قراءة وفهم طبيعة التعليقات بشكل عام.\n",
    "</p>"
   ]
  },
  {
   "cell_type": "code",
   "execution_count": 103,
   "metadata": {
    "scrolled": false
   },
   "outputs": [
    {
     "data": {
      "text/plain": [
       "stars\n",
       "1    Had this chicken on more than one occasion.  It has to be the worst crap I have ever had.It has no spice to it whatsoever.  It tastes like someone just threw flour on it and nothing else.  The only thing I did like from there is the potato salad....don't know if they still have the potato salad because I haven't been in years.. Bottom line I have had better chicken from Bojangles. This crap must have some kind of mind control drug in it to convince all these people in Charlotte that this chicken is special.                                                                                                                                                                                                                                                                                                                                                                                                                                                                                                                                                                                                                                                                                                                                                                                                                                                                                                                                                                                                                                                                                                                                                                                                                                                                                                                                                                                                                                                                                                                                                                                                                                                                                                                                                                                                                     \n",
       "2    Just a little disclaimer that this happened last year (just trying to catch up on my reviews) so I hope the failings have been addressed.\\n\\nMy parents were in town from England on business for the international film festival, and only had only free evening of the trip so I wanted a nice restaurant in my neighbourhood to celebrate us all being together for the fist time in Toronto since I moved here. I made a reservation for their earliest available spot at 9PM, and due to the torrential rain that evening, we were delayed by 10 minutes. The hostesses were incredibly rude as soon as we got in and said our table was not ready and to wait at the bar (where a lot of others with reservations were also waiting). \\n\\nWe politely waited at the bar, and checked in with the hostess 10 minutes later, who said that the table was still not ready as they had taken so many reservations that evening. At 9:30 we said that it had been 30 minutes after our initial reservation to which the hostess retorted that it was only 20 because we were 10 minutes late. I had so many issues with this comment: a) it was plain rude, b) regardless, if we have a reservation it shouldn't matter since it should have been ready for us at 9, with a small grace period if we we running behind, c) 20 minutes is still getting to the point of unacceptable time to wait for a restaurant reservation, d) it lay blame on us, even though there were many others who had reservations and were still lumped at the bar so it was just to deflect their poor management of reservations.\\n\\nAt 9:45 - 45 minutes after our reservation, we were finally seated. The food was over-priced for what it was - bland and not worth the wait at all. The waiters were really trying but you could see they were overwhelmed by the amount of patrons. \\n\\nThe only thing going for this place was the interior, which is a really vibrant design and has a trendy ambiance, and is the only reason I brought my review up to 2 star. The attitude of the hostesses left a bad taste in our mouths the entire evening which is a shame, but Yonge and Eglinton has so many great restaurants to offer that you can't treat the locals (or anyone actually) like that if you want to build loyal patronage - and they lost this one.\n",
       "3    Why is it no matter how busy this location is, the burgers are always old? I almost never get freshly cooked meat, and the same goes for the chicken nuggets I bought the other day! It's really disappointing, because otherwise I like this location. The fries are usually fresh, the employees are fast, and the place is usually clean. You'd think since this location has such high competition, that they wouldn't be taking their customers for granted. If you want a good McDs experience, the location at Yonge near Wellesley is always hot and fresh.                                                                                                                                                                                                                                                                                                                                                                                                                                                                                                                                                                                                                                                                                                                                                                                                                                                                                                                                                                                                                                                                                                                                                                                                                                                                                                                                                                                                                                                                                                                                                                                                                                                                                                                                                                                  \n",
       "4    Stayed at a hotel across the street so of course had to try this place. Did a pickup order. Unfortunately, I forgot to post all of the pictures I had. But I can't recall anything really good or really bad about the food. So that's usually good sign on my end. The to-go presentation was definitely lacking but tasted good. Understandable because most people would dine in. Price was what is expected of fine Italian. \\n\\nLocation, as others have pointed out is tucked into the base of the Hearst. Easy enough to access.                                                                                                                                                                                                                                                                                                                                                                                                                                                                                                                                                                                                                                                                                                                                                                                                                                                                                                                                                                                                                                                                                                                                                                                                                                                                                                                                                                                                                                                                                                                                                                                                                                                                                                                                                                                                              \n",
       "5    Great pizza and even greater people running it. New York style pizza in Las Vegas and this is the real deal. This is a great family owned business and Ralph and Anthony treat me so well every time I go there. Whatever I buy they always add more at no charge just so I can try it. Typical Italians.. Mangia! Mangia!. If you're from the East Coast this is definitely a place you have to try. Believe me, I know good pizza and this is good pizza.                                                                                                                                                                                                                                                                                                                                                                                                                                                                                                                                                                                                                                                                                                                                                                                                                                                                                                                                                                                                                                                                                                                                                                                                                                                                                                                                                                                                                                                                                                                                                                                                                                                                                                                                                                                                                                                                                          \n",
       "Name: text, dtype: object"
      ]
     },
     "execution_count": 103,
     "metadata": {},
     "output_type": "execute_result"
    }
   ],
   "source": [
    "pd.set_option('display.max_colwidth', -1)\n",
    "long_reviews.groupby('stars').apply(lambda x :x.iloc[random.choice(range(0,len(x)))])['text']"
   ]
  },
  {
   "cell_type": "markdown",
   "metadata": {},
   "source": [
    "<div style=\"direction:rtl; text-align:right; line-height:1.6; font-weight: bold;\">\n",
    "\n",
    "<h2>تقسيم البيانات إلى بيانات تدريب واختبار</h2>\n",
    "\n",
    "</div>"
   ]
  },
  {
   "cell_type": "markdown",
   "metadata": {},
   "source": [
    "<p style=\"direction:rtl; text-align:right; font-size:16px; line-height:1.6\">\n",
    "سنقوم الآن بتقسيم البيانات إلى بيانات تدريب واختبار، 80% بيانات تدريب و 20% بيانات اختبار\n",
    "</p>"
   ]
  },
  {
   "cell_type": "code",
   "execution_count": 104,
   "metadata": {
    "scrolled": true
   },
   "outputs": [
    {
     "name": "stdout",
     "output_type": "stream",
     "text": [
      "Number of rows in the total set: 305,873\n",
      "Number of rows in the training set: 244,698\n",
      "Number of rows in the test set: 61,175\n"
     ]
    }
   ],
   "source": [
    "X_train, X_test, y_train, y_test, indices_train, indices_test = train_test_split(long_reviews.text, long_reviews.stars, long_reviews.index, test_size=0.20, random_state=0)\n",
    "\n",
    "print('Number of rows in the total set: {:,}'.format(long_reviews.shape[0]))\n",
    "print('Number of rows in the training set: {:,}'.format(X_train.shape[0]))\n",
    "print('Number of rows in the test set: {:,}'.format(X_test.shape[0]))"
   ]
  },
  {
   "cell_type": "markdown",
   "metadata": {},
   "source": [
    "<div style=\"direction:rtl; text-align:right; line-height:1.6; font-weight: bold;\">\n",
    "\n",
    "<h2>حويل النصوص إلى قيم رقمية باستخدام Word2Vec و TF-IDF</h2>\n",
    "\n",
    "</div>"
   ]
  },
  {
   "cell_type": "markdown",
   "metadata": {},
   "source": [
    "<div style=\"direction:rtl; text-align:right; font-size:16px; line-height:1.6\">\n",
    "يأتي الآن دور أهم جزء في هذا الدرس، وهو تحويل النصوص إلى قيم رقمية كي تستطيع الخوارزميات التعامل معها. كيف يمكن ذلك؟\n",
    "<br/>\n",
    "أحد أشهر المفاهيم في التعامل مع النصوص هو مفهوم Bag of Words ويعني بكل بساطة أن نبني جدول مكون من:\n",
    "<ul style=\"direction:rtl; text-align:right; font-size:16px; line-height:1.6\">\n",
    "<li>الأعمدة أو Features: تمثل الكلمات (أو الجمل أو الحروف حسب الهدف من المشروع) الموجودة في مجموعة بيانات التدريب بدون تكرار</li>\n",
    "<li>الصفوف: كل صف يمثل تعليق.</li>\n",
    "<li>القيم: تأخذ كل خلية قيمة محددة مثل عدد تكرار كل كلمة في كل تعليق، أو درجة أهمية كل كلمة في كل تعليق.</li>\n",
    "</ul>\n",
    "\n",
    "مثال، لدينا مجموعة بيانات التدريب التالية:\n",
    "<ul style=\"direction:rtl; text-align:right; font-size:16px; line-height:1.6\">\n",
    "<li>هذا المطعم ممتاز</li>\n",
    "<li>المطعم ممتاز جدا جدا</li>\n",
    "<li>تجربة سيئة</li>\n",
    "</ul>\n",
    "\n",
    "عندما نبني Bag of Words سيكون لدينا الجدول التالي\n",
    "<br/>\n",
    "<img src=\"img/table1.PNG\">\n",
    "<br/>\n",
    "\n",
    "كل صف يمثل تعليق، وكل قيمة تأخذ عدد تكرار الكلمة في التعليق\n",
    "<br/>\n",
    "\n",
    "لو كان لدينا تعليق جديد، أو تعليق من مجموعة الإختبار كيف سنتعامل معه؟ بنفس الطريقة:\n",
    "<ul style=\"direction:rtl; text-align:right; font-size:16px; line-height:1.6\">\n",
    "<li>لديهم بتزا لذيذة</li>\n",
    "<li>الخدمة سيئة جدا</li>\n",
    "</ul>\n",
    "\n",
    "<img src=\"img/table2.PNG\">\n",
    "<br/>\n",
    "\n",
    "نلاحظ أننا : قمنا ببناء الـ Bag of Words على بيانات التدريب فقط، ولذلك نجد الأعمدة أو الخصائص كما هي لم تتغير. وفي حال كان لدينا تعليق جديد لا يحتوي على أي كلمة موجودة ضمن الكلمات في بيانات التدريب، فستكون كل قيمه 0.\n",
    "<br/>\n",
    "نستطيع بناء Bag of Words باستخدام CounterVectorizer الموجود في Sklearn بسطرين فقط كما في المثال التالي، وسيكون لدينا جدول يحتوي على كامل التعليقات، وكامل الكلمات في مجموعة التدريب مع حساب عدد تكرار كل كلمة في كل تعليق كما في المثال السابق.\n",
    "\n",
    "\n",
    "</div>"
   ]
  },
  {
   "cell_type": "code",
   "execution_count": 105,
   "metadata": {
    "collapsed": true
   },
   "outputs": [],
   "source": [
    "#count_vector = CountVectorizer()\n",
    "#training_data = count_vector.fit_transform(X_train)\n",
    "#testing_data = count_vector.transform(X_test)"
   ]
  },
  {
   "cell_type": "markdown",
   "metadata": {},
   "source": [
    "<div style=\"direction:rtl; text-align:right; font-size:16px; line-height:1.6\">\n",
    "\n",
    "لكن بدلاً من حساب عدد تكرار الكلمات، سنقوم بحساب أهمية كل كلمة في كل تعليق، وهذه الطريقة تعرف بـ Tf-idf. وهي معادلة رياضية تحسب أهمية كل كلمة من خلال عاملين: العامل الأول هو عدد تكرار الكلمة في التعليق الواحد، كلما زاد هذا العدد زدت أهمية الكلمة. العامل الثاني هو عدد التعليقات التي وردت فيها هذه الكلمة (بغض النظر عن عدد تكرارها في كل تعليق)، وكلما زاد هذا العدد نقصت الأهمية.\n",
    "<br/>\n",
    "المعادلة باختصار:\n",
    "<br/>\n",
    "<a align=\"center\" href=\"http://mropengate.blogspot.com/2016/04/tf-idf-in-r-language.html\"><img src=\"img/tfidf.png\" height=\"172\" width=\"450.8\"></a>\n",
    "<br/>\n",
    "بهذا نستنتج أن المعادلة تعطي وزناً منخفضاُ للكلمات الشائعة جداً وتتكرر كثيراً في مجموعة البيانات، مثل الضمائر أو أسماء الإشارة أو الكلمات العامة مثل: مطعم، شارع، قهوة .. إلخ والتي لا تميز تصنيف عن آخر. وبنفس الوقت تعطي وزن أكبر للكلمات التي يقل تكرارها في مجموعة البيانات مثل كلمات: رائع، لذيذ، شهي، ستتكرر غالباً في التقييمات العالية فقط. أو: سيئ، كئيب، مزعج، ستتكرر غالباً في التقييمات المنخفضة فقط. \n",
    "\n",
    "\n",
    "إذا طبقنا هذه الطريقة على نفس الجدول السابق سيكون لدينا التالي:\n",
    "<br/>\n",
    "<img src=\"img/table3.PNG\">\n",
    "<br/>\n",
    "\n",
    "نلاحظ أن:\n",
    "<ul>\n",
    "<li>كلمة (جداً) أخذت أعلى وزن، بسبب أنها تكررت أكثر من مرة في تعليق واحد فقط.</li>\n",
    "<li>الكلمات (تجربة و سيئة و هذا) أخذت وزن متوسط لأن كل واحدة منها تكررت مرة واحدة في تعليق واحد.</li>\n",
    "<li>كلمتي (المطعم و ممتاز) أخذت وزن منخفض لأن كل واحدة منها ذكرت مرة واحدة ولكن في تعليقين.</li>\n",
    "</ul>\n",
    "\n",
    "نستطيع بناء Bag of Words باستخدام TfidfVectorizer الموجود في Sklearn بسطرين فقط كما في المثال التالي\n",
    "</div>"
   ]
  },
  {
   "cell_type": "code",
   "execution_count": 106,
   "metadata": {
    "collapsed": true,
    "scrolled": false
   },
   "outputs": [],
   "source": [
    "count_vector = TfidfVectorizer(stop_words='english', ngram_range=(1, 2),strip_accents='unicode', use_idf=1,\n",
    "               sublinear_tf=1)\n",
    "\n",
    "training_data = count_vector.fit_transform(X_train)\n",
    "\n",
    "testing_data = count_vector.transform(X_test)"
   ]
  },
  {
   "cell_type": "markdown",
   "metadata": {},
   "source": [
    "<div style=\"direction:rtl; text-align:right; font-size:16px; line-height:1.6\">\n",
    "\n",
    "في الكود السابق قمنا بإنشاء Bag or words بطرية Tf-idf وهنا التفاصيل:\n",
    "في البداية أنشأنا object وعرفنا مجموعة من الـ Hyperparameter:\n",
    "\n",
    "<ul>\n",
    "<li>stop_words=english: ويعني أننا سنقوم بحذف الكلمات الشائعة التي ليس لها دلالة تساعد النموذج في التنبؤ، مثل الضمائر وأسماء الإشارة وغيرها</li>\n",
    "<li>max_features: لم نقم بتحديده لكن معرفته مهمة، عند تحديد رقم هنا (500 مثلاً) فسيقوم بتحديد أكثر 500 كلمة شائعة فقط، ممكن نستفيد من هذا البراميتر في حال كانت الذاكرة لا تستوعب جميع الكلمات الموجودة في بيانات التدريب</li>\n",
    "<li>ngram_range=(1, 2): عند الاعتماد على القيمة الافتراضية لهذا البراميتر سيقوم بتحديد الكلمات فقط كـ features. لكن نحن هنا وضعنا قيمة تجعله يحدد جميع الكلمات + كل كلمتين متجاورتين. مثال: هذا الأكل لذيذ = (هذا، الأكل، لذيذ، هذا الأكل، الأكل لذيذ). قيمة هذا البراميتر التي بين القوسين تعني أن أقل عدد من الكلمات المراد تحديده = 1 وأكبر عدد = 2</li>\n",
    "<li>strip_accents='unicode': للاقتصار على الكلمات ذات الترميز unicode</li>\n",
    "<li> use_idf=1: الـ idf هو الجزء الثاني من المعادلة الموضحة في الأعلى log(n/df) وهو معامل انتشار الكلمة في مجموعة البيانات. </li>\n",
    "<li>sublinear_tf=1: هذا البراميتر يقوم بالتعديل على المعادلة الموضحة في الأعلى، بحيث بدلا من احتساب عدد الكلمات tf سيقوم باحتساب 1+log(tf). بهذه الطريقة سيكون زيادة تكرار الكلمة يقابله زيادة في الأهمية بطريقة خطية</li>\n",
    "</ul>\n",
    "\n",
    "بعد ذلك قمنا ببناء الـ Bag of words على بيانات التدريب وتحويل قيمها fit_transform. ثم قمنا بتحويل بيانات الاختبار تبعاً لذلك transform()\n",
    "<br/>\n",
    "وكما هو واضح في الكود التالي، أن عدد الخصاص = +5 ملايين!\n",
    "</div>"
   ]
  },
  {
   "cell_type": "code",
   "execution_count": 107,
   "metadata": {},
   "outputs": [
    {
     "data": {
      "text/plain": [
       "(244698, 5762261)"
      ]
     },
     "execution_count": 107,
     "metadata": {},
     "output_type": "execute_result"
    }
   ],
   "source": [
    "training_data.shape"
   ]
  },
  {
   "cell_type": "markdown",
   "metadata": {},
   "source": [
    "<div style=\"direction:rtl; text-align:right; font-size:16px; line-height:1.6\">\n",
    "\n",
    "في الكود التالي سنقوم بعرض قائمة الخصائص. ونلاحظ أن هناك تكرار في بعض الكلمات (جمع ومفرد أو تصاريف أفعال مختلفة) ولذلك بإمكاننا عند بناء الـ bag of words معالجة الكلمات (من خلال البراميتر tokenizer) مثل توحيد صيغ الجمع والمفرد، أو تصاريف الأفعال وغيرها بالاستعانة بالمكتبات NLTK أو Textblob. وهذه الخطوة قد تكون مفيدة كونها تقلل عدد الخصائص التي تحمل نفس المعنى تقريباً، وقد تكون مضرة في حال كانت بياناتنا بحاجة إلى التفريق بين هذه الصيغ. لمعرفة أيهما أفضل، يتوجب عليك تجربة جميع الاحتمالات وبناء النموذج واختباره بالبيانات لمعرفة أي الطرق أنسب لبياناتك.\n",
    "<br/>\n",
    "عند رغبتك بتجربة عدة قيم مختلفة لكل براميتر بشكل تلقائي يمكنك استعمال الـ Pipeline & GridSearchCV المتاحة في Sklearn كما في <a href=\"https://stackoverflow.com/questions/44066264/how-to-choose-parameters-in-tfidfvectorizer-in-sklearn-during-unsupervised-clust\">هذا المثال</a>\n",
    "</div>"
   ]
  },
  {
   "cell_type": "code",
   "execution_count": 108,
   "metadata": {
    "scrolled": true
   },
   "outputs": [
    {
     "data": {
      "text/plain": [
       "['00 bar',\n",
       " '00 barely',\n",
       " '00 bargain',\n",
       " '00 barrio',\n",
       " '00 bartender',\n",
       " '00 basic',\n",
       " '00 basically',\n",
       " '00 bean',\n",
       " '00 beans',\n",
       " '00 bears',\n",
       " '00 beat',\n",
       " '00 beauty',\n",
       " '00 beeakfast',\n",
       " '00 beef',\n",
       " '00 beer',\n",
       " '00 beers',\n",
       " '00 beets',\n",
       " '00 begged',\n",
       " '00 beginning',\n",
       " '00 beides']"
      ]
     },
     "execution_count": 108,
     "metadata": {},
     "output_type": "execute_result"
    }
   ],
   "source": [
    "count_vector.get_feature_names()[162:182]"
   ]
  },
  {
   "cell_type": "markdown",
   "metadata": {},
   "source": [
    "<div style=\"direction:rtl; text-align:right; line-height:1.6; font-weight: bold;\">\n",
    "\n",
    "<h2>استخراج الخصائص الهامة في كل تصنيف</h2>\n",
    "\n",
    "</div>"
   ]
  },
  {
   "cell_type": "markdown",
   "metadata": {},
   "source": [
    "<div style=\"direction:rtl; text-align:right; font-size:16px; line-height:1.6\">\n",
    "نستطيع الآن استخراج الخصائص (أو الكلمات) المهمة في كل تصنيف، وذلك من خلال طريقتين، الأولى عن طريق حساب المتوسط لكل خاصية في كل تصنيف، لكن سنجد أن الكلمات التي تتكرر في كل التصنيفات ستظهر أنها مهمة في كل تصنيف. الطريقة الثانية هي عن طريق استخدام اختبار كاي سكوير Chi Square لقياس الارتباط بين التصنيفات والخصائص.\n",
    "كلما زادت قيمة اختبار كاي سكوير، يعني أن الخاصية أكثر ارتباطاُ بالتصنيف.\n",
    "\n",
    "للإطلاع على المزيد: <a href=\"http://www.learn4master.com/machine-learning/chi-square-test-for-feature-selection\">learn4master<a/>\n",
    "</div>"
   ]
  },
  {
   "cell_type": "code",
   "execution_count": 109,
   "metadata": {
    "scrolled": false
   },
   "outputs": [
    {
     "name": "stdout",
     "output_type": "stream",
     "text": [
      "* 1\n",
      "# Most correlated unigrams:\n",
      "said, disgusting, minutes, asked, terrible, told, rude, manager, horrible, worst\n",
      "# Most correlated bigrams:\n",
      "service horrible, terrible service, minutes later, speak manager, customer service, worst experience, horrible service, waste time, zero stars, worst service\n",
      "\n",
      "\n",
      "* * 2\n",
      "# Most correlated unigrams:\n",
      "amazing, dry, minutes, asked, ok, delicious, meh, disappointing, mediocre, bland\n",
      "# Most correlated bigrams:\n",
      "wasn good, sub par, meh ve, second star, mediocre best, won going, food mediocre, experienced better, wanted like, tasted like\n",
      "\n",
      "\n",
      "* * * 3\n",
      "# Most correlated unigrams:\n",
      "delicious, stars, alright, wasn, overall, pretty, okay, average, decent, ok\n",
      "# Most correlated bigrams:\n",
      "wasn bad, food decent, write home, highly recommend, overall decent, overall ok, wouldn way, just okay, just ok, pretty good\n",
      "\n",
      "\n",
      "* * * * 4\n",
      "# Most correlated unigrams:\n",
      "rude, minutes, enjoyed, tasty, terrible, told, horrible, asked, manager, worst\n",
      "# Most correlated bigrams:\n",
      "pretty good, pleasantly surprised, great place, didn stars, overall great, overall good, definitely come, really enjoyed, customer service, really good\n",
      "\n",
      "\n",
      "* * * * * 5\n",
      "# Most correlated unigrams:\n",
      "awesome, fantastic, love, wonderful, highly, favorite, perfect, best, delicious, amazing\n",
      "# Most correlated bigrams:\n",
      "far best, great food, amazing food, place amazing, pretty good, new favorite, hands best, food amazing, love place, highly recommend\n",
      "\n",
      "\n"
     ]
    }
   ],
   "source": [
    "N = 10\n",
    "for star in sorted(reviews.stars.unique()):\n",
    "    features_chi2 = chi2(training_data, y_train == star)\n",
    "    indices = np.argsort(features_chi2[0])\n",
    "    feature_names = np.array(count_vector.get_feature_names())[indices]\n",
    "    unigrams = [v for v in feature_names if len(v.split(' ')) == 1]\n",
    "    bigrams = [v for v in feature_names if len(v.split(' ')) == 2]\n",
    "    print(*['*']*int(star),int(star))\n",
    "    print(\"# Most correlated unigrams:\")\n",
    "    print(*unigrams[-N:], sep = \", \")\n",
    "    print(\"# Most correlated bigrams:\")\n",
    "    print(*bigrams[-N:], sep = \", \")\n",
    "    print(\"\\n\")"
   ]
  },
  {
   "cell_type": "markdown",
   "metadata": {},
   "source": [
    "<div style=\"direction:rtl; text-align:right; line-height:1.6; font-weight: bold;\">\n",
    "\n",
    "<h1>فحص النماذج</h1>\n",
    "\n",
    "</div>"
   ]
  },
  {
   "cell_type": "markdown",
   "metadata": {},
   "source": [
    "<div style=\"direction:rtl; text-align:right; line-height:1.6; font-weight: bold;\">\n",
    "\n",
    "<h2>تحديد النماذج</h2>\n",
    "\n",
    "</div>"
   ]
  },
  {
   "cell_type": "markdown",
   "metadata": {},
   "source": [
    "<div style=\"direction:rtl; text-align:right; font-size:16px; line-height:1.6\">\n",
    "إذً انتهينا الآن من تجهيز البيانات، ويأتي الآن دور تحديد النماذج واختبارها. وكما أشرت في المقدمة أن النماذج الخطية تؤدي أداءً جيداً في مجال تصنيف النصوص، وذلك بسبب أن الشكل النهائي للبيانات بعد المعالجة سيكون sparse metrix أي مصفوفة غالب قيمها 0 وهذا بدوره يجعل البيانات تميل إلى كونها مفصولة بشكل خطي.\n",
    "<br/>\n",
    "كما أنه من المتعارف عليه أن نموذج Naive bayes يستخدم كنموذج أولي Baseline لتقييم النماذج الأخرى ومقارنتها. نحن سنستخدم هنا 3 نماذج:\n",
    "<ul>\n",
    "<li>Naive bayes: كنموذج أولي</li>\n",
    "<li>Logistic regression: كنموذج خطي</li>\n",
    "<li>Random forest: كنموذج غير خطي</li>\n",
    "</ul>\n",
    "</div>"
   ]
  },
  {
   "cell_type": "markdown",
   "metadata": {},
   "source": [
    "<div style=\"direction:rtl; text-align:right; line-height:1.6; font-weight: bold;\">\n",
    "\n",
    "<h2>تحديد مقاييس الأداء</h2>\n",
    "\n",
    "</div>"
   ]
  },
  {
   "cell_type": "markdown",
   "metadata": {},
   "source": [
    "<div style=\"direction:rtl; text-align:right; font-size:16px; line-height:1.6\">\n",
    "أيضاً سنقوم بالتحديد مقاييس الأداء التي سنقيم بها النماذج خلال التدريب أو الاختبار. هذه الخطوة هامة جداً وحساسة، لأن اختيار المقياس غير المناسب قد يقود إلى نتائج مضللة.\n",
    "<br/>\n",
    "أشهر وأسهل المقاييس هو حساب دقة التصنيف Accuracy score ، ويقوم بحساب عدد الأمثلة التي صنفت بشكل صحيح مقسوماً عدد الأمثلة بشكل كامل. لكن يفضل عدم الاقتصار على هذا المقياس خصوصاً إلى كان توزيع التصنيفات غير متوازن.\n",
    "<br/>\n",
    "تخيل لو لدينا بيانات مقسومة إلى تصنيفين، التصنيف 1 يحتوي على 95 مثال، والتصنيف 0 يحتوي على 5 أمثلة، ولو كان لدينا نموذج يسند أي مثال للتصنيف 1 بدون أي عملية حساب، فإننا عندما نقوم باختبار النموذج بمقياس الدقة على بياناتنا هذه ستكون الدقة 95%!\n",
    "<br/>\n",
    "\n",
    "نحن هنا سنستخدم مقياس آخر يحل هذه الإشكلية وهو مقياس f1 score. وهو عبارة عن حساب المتوسط التوافقي Harmonic mean بين مقياسين آخرين هما:  precision and recall.\n",
    "\n",
    "<br/>\n",
    "وهذا المقياس يحل إشكالية عدم توازن توزيع التصنيفات في بياناتنا. للاستزادة حول الموضوع يرجى قراءة: <a href=\"https://towardsdatascience.com/accuracy-paradox-897a69e2dd9b\">towardsdatascience</a>\n",
    "<br/>\n",
    "<br/>\n",
    "إضافة إلى ذلك قد يكون من المناسب استخدام مقياس آخر يقيس جانب آخر من الدقة، افترض أن لدينا تعليق تقييمه 5 وهناك نموذجان، النموذج الأول تنبأ بأن تقييمه 4 والآخر تنبأ بـ 1 فكلا النتيجتان خاطئتان مع أن النموذج الأول أقرب للصواب.\n",
    "لذلك بإمكاننا استخدام مقياس Log Loss أو RMSE لحساب هامش الخطأ في كل نموذج. لكن إضافة مقياس آخر سيأخذ وقت تدريب إضافي، ولذلك سنقتصر على المقياس f1.\n",
    "\n",
    "</div>"
   ]
  },
  {
   "cell_type": "markdown",
   "metadata": {},
   "source": [
    "<div style=\"direction:rtl; text-align:right; line-height:1.6; font-weight: bold;\">\n",
    "\n",
    "<h2>تدريب واختبار أداء النماذج باستخدام بيانات التحقق Validation set</h2>\n",
    "\n",
    "</div>"
   ]
  },
  {
   "cell_type": "markdown",
   "metadata": {},
   "source": [
    "<div style=\"direction:rtl; text-align:right; font-size:16px; line-height:1.6\">\n",
    "الآن يأتي دور اختبار أداء النموذج ببيانات التحقق Validation set عن طريق  cross_val_score وسنقوم بعرض نتيجة المقياس والوقت المستغرق لتدريب واختبار النموذج\n",
    "</div>"
   ]
  },
  {
   "cell_type": "code",
   "execution_count": 110,
   "metadata": {
    "collapsed": true
   },
   "outputs": [],
   "source": [
    "def model_selection(models, x_train, y_train):\n",
    "    result = []\n",
    "    for i, model in enumerate(models):\n",
    "        model_name = model.__class__.__name__\n",
    "        start = time.time()\n",
    "        f1_score = cross_val_score(model, x_train, y_train, scoring='f1_micro', cv=5)\n",
    "        fenish = (time.time() - start)\n",
    "        result.append([model_name, 'f1_score', f1_score.mean()])\n",
    "        result.append([model_name, 'time', fenish])\n",
    "        print(\"Model: {0}, f1_score = {1:.2f}, Time = {2:.2f}\".format(model_name, f1_score.mean(), fenish))"
   ]
  },
  {
   "cell_type": "code",
   "execution_count": 111,
   "metadata": {},
   "outputs": [
    {
     "name": "stdout",
     "output_type": "stream",
     "text": [
      "Model: MultinomialNB, f1_score = 0.43, Time = 23.81\n",
      "Model: LogisticRegression, f1_score = 0.61, Time = 697.93\n",
      "Model: RandomForestClassifier, f1_score = 0.32, Time = 97.40\n"
     ]
    }
   ],
   "source": [
    "models = [MultinomialNB(), LogisticRegression(random_state=0, class_weight='balanced'), RandomForestClassifier(max_depth=10, n_jobs =-1, random_state=0)]\n",
    "model_selection(models, training_data, y_train)"
   ]
  },
  {
   "cell_type": "markdown",
   "metadata": {},
   "source": [
    "<div style=\"direction:rtl; text-align:right; font-size:16px; line-height:1.6\">\n",
    "يتضح من النتيجة أن Logistic regression هو الأفضل أداءً، لكن الوقت أعلى بكثير من النماذج الأخرى\n",
    "<br/>\n",
    "كما يتضح أن Naive bayes تفوق على Random forest بالدقة والوقت، ولهذا يعتبر نموذج baseline جيد.\n",
    "<br/>\n",
    "صحيح أننا نستطيع رفع دقة Random forest من خلال التعديل على البراميتر مثل زيادة max_depth أو غيرها، لكن عادة ماتتفوق النماذج الخطية في تصنيف النصوص، ولذلك سنختار الـ Logistic regression كنموذج لحل مشكلتنا\n",
    "</div>"
   ]
  },
  {
   "cell_type": "markdown",
   "metadata": {},
   "source": [
    "<div style=\"direction:rtl; text-align:right; line-height:1.6; font-weight: bold;\">\n",
    "\n",
    "<h2>البحث عن أفضل إعدادات أو hyperparameters لتدريب النموذج</h2>\n",
    "\n",
    "</div>"
   ]
  },
  {
   "cell_type": "markdown",
   "metadata": {},
   "source": [
    "<div style=\"direction:rtl; text-align:right; font-size:16px; line-height:1.6\">\n",
    "يفترض الآن أن نقوم بعمل Grid Search للبحث عن أفضل براميترز لتدريب الـ Logistic regression لكن بسبب أن هذه العملية تأخذ وقت طويل حسب عدد البرامتيرز التي تريد اختبارها، فإننا سنتقصر على البراميترز الافتراضية، مع وضع مثال لطريقة استخدام Grid Search في حال أردت التجربة\n",
    "</div>"
   ]
  },
  {
   "cell_type": "code",
   "execution_count": 112,
   "metadata": {
    "collapsed": true
   },
   "outputs": [],
   "source": [
    "# clf = LogisticRegression(random_state=0, class_weight='balanced')\n",
    "\n",
    "# parameters = {'C':[0.1,1,4], 'dual':[True, False]}\n",
    "\n",
    "# scorer = make_scorer(f1_score, average='micro')\n",
    "\n",
    "# grid_obj = GridSearchCV(clf, parameters, scorer, cv=5)\n",
    "\n",
    "# grid_fit = grid_obj.fit(training_data, y_train)\n",
    "\n",
    "# grid_fit.best_estimator_"
   ]
  },
  {
   "cell_type": "markdown",
   "metadata": {},
   "source": [
    "<div style=\"direction:rtl; text-align:right; line-height:1.6; font-weight: bold;\">\n",
    "\n",
    "<h2>اختبار النموذج ببيانات الاختبار</h2>\n",
    "\n",
    "</div>"
   ]
  },
  {
   "cell_type": "code",
   "execution_count": 113,
   "metadata": {
    "collapsed": true
   },
   "outputs": [],
   "source": [
    "clf = LogisticRegression(random_state=0, class_weight='balanced')\n",
    "model = clf.fit(training_data, y_train)\n",
    "pred = model.predict(testing_data)"
   ]
  },
  {
   "cell_type": "markdown",
   "metadata": {},
   "source": [
    "<div style=\"direction:rtl; text-align:right; font-size:16px; line-height:1.6\">\n",
    "لتقييم الأداء النهائي للنموذج سنقوم بقياس دقته عن طريق مقياس f1_score ومن ثم عرض Confusion matrix للنتيجة النهائية\n",
    "</div>"
   ]
  },
  {
   "cell_type": "code",
   "execution_count": 114,
   "metadata": {},
   "outputs": [
    {
     "data": {
      "text/plain": [
       "0.6085328974254188"
      ]
     },
     "execution_count": 114,
     "metadata": {},
     "output_type": "execute_result"
    }
   ],
   "source": [
    "f1_score(y_test, pred, average='micro')"
   ]
  },
  {
   "cell_type": "markdown",
   "metadata": {},
   "source": [
    "<div style=\"direction:rtl; text-align:right; font-size:16px; line-height:1.6\">\n",
    "الأداء النهائي للنموذج على بيانات الاختبار مماثل تقريباُ لنتيجة اختبار النموذج ببيانات التحقق وهذا يدل على أن النموذج لا يعاني من الـ Ovdrfiting لكنه بكل تأكيد يعاني من الـ Underfiting كون الدقة منخفضة.\n",
    "<br/>\n",
    "وكما أشرت في المقدمة أن التحديات في مجموعة البيانات هذه كبيرة ولا يتوقع من نماذج بسيطة أن يكون أداءها عال مع مثل هذه المشكلة.\n",
    "<br/>\n",
    "ولتوضيح أحد أهم المشاكل ألق نظرة على الشكل الملون في الأسفل، هذه الخريطة توضح لنا النتيجة النهائية للتصنيفات وتوزيعها. فمثلاً الصف الأول يخبرنا أن 78% من التعليقات التي تقييمها 1 صنفت بشكل صحيح، بينما 0.1% منها صنفت على أن تقييمها 5، وهكذا.\n",
    "<br/>\n",
    "التوزيع اللوني في الخريطة يوضح أن الأخطاء تكثر في التصنيفات المتجاورة، وهذا منطقي، فكثير من التعليقات سيختلف البشر في تصنيفها هل 3 أم 2 أم 4، وكذلك هل هو 1 أو 2، كما أن التقييم عادة مايخضع لمعايير نفسية تختلف عن النص، ولذلك قد تجد تعليق يستحق 4 بينما هو 2 وهكذا.\n",
    "\n",
    "</div>"
   ]
  },
  {
   "cell_type": "code",
   "execution_count": 115,
   "metadata": {},
   "outputs": [
    {
     "data": {
      "image/png": "[encoded data removed]",
      "text/plain": [
       "<Figure size 720x720 with 2 Axes>"
      ]
     },
     "metadata": {},
     "output_type": "display_data"
    }
   ],
   "source": [
    "conf_mat = confusion_matrix(y_test, pred)\n",
    "conf_mat = conf_mat/conf_mat.sum(axis=1)\n",
    "fig, ax = plt.subplots(figsize=(10,10))\n",
    "sns.heatmap(conf_mat, annot=True, fmt='.2f',\n",
    "            xticklabels=sorted(reviews.stars.unique()), yticklabels=sorted(reviews.stars.unique()))\n",
    "plt.ylabel('Actual')\n",
    "plt.xlabel('Predicted')\n",
    "plt.show()"
   ]
  },
  {
   "cell_type": "markdown",
   "metadata": {},
   "source": [
    "<div dir=\"rtl\" style=\"font-size:16px;font-family:Palatino;line-height: 1.6\">\n",
    "لزيادة التحقق من النموذج سنقوم بعرض أحد التعليقات التي صنفها النموذج على أنها 5 وهي في الأساس 1 \n",
    "\n",
    "</div>"
   ]
  },
  {
   "cell_type": "code",
   "execution_count": 116,
   "metadata": {},
   "outputs": [
    {
     "data": {
      "text/plain": [
       "'Went into Yo Amo Tacos today wondering if it was even open. It was so we thought we\\'d give it a try. The place was completely empty but soon more people came in. \\n\\nWe opened the menu and found our usual Mexican staple, Enchiladas. The price was $22!!! Even if these were the best enchiladas we\\'ve ever had (and we\\'ve had some GOOD ones) I\\'m sorry, there would be absolutely no way to justify $22. \\n\\nOther prices on the menu were equally ridiculous. I couldn\\'t do it. I simply could not bring myself to order $22 enchiladas on principle.\\n\\nYo Amo Tacos (or Yo \"heart\" Tacos as the sign confusingly shows) is NOT a trendy or upscale place that can dare to charge prices like this for show. It\\'s a run down joint that really should be fairly priced and awesome like mostly every other Mexican restaurant I\\'ve had the pleasure to give positive ratings to. \\n\\nNo way, no how, no go, no Yo!'"
      ]
     },
     "execution_count": 116,
     "metadata": {},
     "output_type": "execute_result"
    }
   ],
   "source": [
    "X_test[(y_test==1)&(pred==5)].iloc[4]"
   ]
  },
  {
   "cell_type": "markdown",
   "metadata": {},
   "source": [
    "<div style=\"direction:rtl; text-align:right; font-size:16px; line-height:1.6\">\n",
    "\n",
    "يتضح من التعليق أن الطعام كان جيد، لكن المشكلة بالسعر، ولعدم وجود أوصاف أو كلمات لذم السعر فقد قام النموذج بتصنيفه على أنه 5\n",
    "</div>"
   ]
  },
  {
   "cell_type": "markdown",
   "metadata": {},
   "source": [
    "<div style=\"direction:rtl; text-align:right; line-height:1.6; font-weight: bold;\">\n",
    "\n",
    "<h1>نموذج ثنائي التصنيف Binary Classification</h1>\n",
    "\n",
    "</div>"
   ]
  },
  {
   "cell_type": "markdown",
   "metadata": {},
   "source": [
    "<div style=\"direction:rtl; text-align:right; font-size:16px; line-height:1.6\">\n",
    "كخطوة أخيرة نختم بها هذا هذا المشروع، سنجرب الاقتصار على تصنيفين فقط هما 1 و 5 لوجود تفاوت كبير بينهما لنشاهد تأثير تعدد التصنيفات وتداخلها، وسنقوم ببناء الـ Bag of words من جديد وتدريب النموذج بنفس الإعدادات السابقة. وسنشاهد التحسن الكبير بالدقة.\n",
    "</div>"
   ]
  },
  {
   "cell_type": "code",
   "execution_count": 117,
   "metadata": {
    "collapsed": true
   },
   "outputs": [],
   "source": [
    "b_long_reviews = long_reviews[(long_reviews.stars == 1)|(long_reviews.stars == 5)]\n",
    "\n",
    "b_X_train, b_X_test, b_y_train, b_y_test, b_indices_train, b_indices_test = train_test_split(b_long_reviews.text, b_long_reviews.stars, b_long_reviews.index, test_size=0.20, random_state=0)\n",
    "\n",
    "b_training_data = count_vector.fit_transform(b_X_train)\n",
    "\n",
    "b_testing_data = count_vector.transform(b_X_test)"
   ]
  },
  {
   "cell_type": "code",
   "execution_count": 118,
   "metadata": {
    "collapsed": true
   },
   "outputs": [],
   "source": [
    "b_model = clf.fit(b_training_data, b_y_train)\n",
    "b_pred = b_model.predict(b_testing_data)"
   ]
  },
  {
   "cell_type": "code",
   "execution_count": 119,
   "metadata": {
    "scrolled": true
   },
   "outputs": [
    {
     "data": {
      "text/plain": [
       "0.9748676730052931"
      ]
     },
     "execution_count": 119,
     "metadata": {},
     "output_type": "execute_result"
    }
   ],
   "source": [
    "f1_score(b_y_test, b_pred, average='micro')"
   ]
  },
  {
   "cell_type": "markdown",
   "metadata": {},
   "source": [
    "<div style=\"direction:rtl; text-align:right; line-height:1.6; font-weight: bold;\">\n",
    "\n",
    "<h1>الخلاصة</h1>\n",
    "\n",
    "</div>"
   ]
  },
  {
   "cell_type": "markdown",
   "metadata": {},
   "source": [
    "<div style=\"direction:rtl; text-align:right; font-size:16px; line-height:1.6\">\n",
    "في بداية هذا المشروع تحدثنا بمقدمة مختصرة عن تصنيف النصوص والمشاكل والتحديات التي ستواجهنا في هذا المشروع، ثم تطرقنا إلى\n",
    "كيفية معالجة النصوص وتمثيلها رقمياً، سواء باستخدام CountVectorizer أو TfidfVectorizer. كما قمنا بمقارنة أداء ثلاثة نماذج هي MultinomialNB و RandomForestClassifier و LogisticRegression ووجدنا أن الأخير هو أفضلهم أداءً. ثم قمنا بعد ذلك بتحويل المشكلة إلى تصنيف ثنائي Binary Classification واقتصرنا على التعليقات ذات التقييم 5 و 1 ولاحظنا التحسن الكبير في أداء النموذج.\n",
    "<br/>\n",
    "<br/>\n",
    "ختاماً: هذا الدرس ليس نتاج خبرة طويلة في المجال، إنما هو في الأساس مشروع نفذته أثناء تعلمي لأحد الدروس في الانترنت، وبدلاُ من تركه حبيساً بين ملفاتي، رأيت أن أقوم بتعريبه وشرحه ونشره لتعم الفائدة. وشكراً\n",
    "<br/>\n",
    "<br/>\n",
    "<b>\n",
    "عبدالعزيز العريني <a align=\"center\" href=\"https://www.linkedin.com/in/abdulazizalorainy/\">Linkedin</a> </b>\n",
    "\n",
    "</div>"
   ]
  }
 ],
 "metadata": {
  "kernelspec": {
   "display_name": "Python 3",
   "language": "python",
   "name": "python3"
  },
  "language_info": {
   "codemirror_mode": {
    "name": "ipython",
    "version": 3
   },
   "file_extension": ".py",
   "mimetype": "text/x-python",
   "name": "python",
   "nbconvert_exporter": "python",
   "pygments_lexer": "ipython3",
   "version": "3.6.6"
  }
 },
 "nbformat": 4,
 "nbformat_minor": 2
}
